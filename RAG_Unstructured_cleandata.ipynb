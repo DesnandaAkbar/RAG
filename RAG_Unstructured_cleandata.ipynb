{
 "cells": [
  {
   "cell_type": "code",
   "execution_count": 1,
   "id": "e01b94c2-9220-4e50-9563-30af2ce7d510",
   "metadata": {},
   "outputs": [],
   "source": [
    "path = \"/home/x/data/\""
   ]
  },
  {
   "cell_type": "code",
   "execution_count": 2,
   "id": "4864df1f-bf52-4074-a75c-5faac66684a4",
   "metadata": {},
   "outputs": [
    {
     "name": "stderr",
     "output_type": "stream",
     "text": [
      "Some weights of the model checkpoint at microsoft/table-transformer-structure-recognition were not used when initializing TableTransformerForObjectDetection: ['model.backbone.conv_encoder.model.layer2.0.downsample.1.num_batches_tracked', 'model.backbone.conv_encoder.model.layer3.0.downsample.1.num_batches_tracked', 'model.backbone.conv_encoder.model.layer4.0.downsample.1.num_batches_tracked']\n",
      "- This IS expected if you are initializing TableTransformerForObjectDetection from the checkpoint of a model trained on another task or with another architecture (e.g. initializing a BertForSequenceClassification model from a BertForPreTraining model).\n",
      "- This IS NOT expected if you are initializing TableTransformerForObjectDetection from the checkpoint of a model that you expect to be exactly identical (initializing a BertForSequenceClassification model from a BertForSequenceClassification model).\n"
     ]
    }
   ],
   "source": [
    "from typing import Any\n",
    "\n",
    "#import nltk\n",
    "#import nltk.internals\n",
    "#nltk.download('punkt')\n",
    "\n",
    "from pydantic import BaseModel\n",
    "from unstructured.partition.pdf import partition_pdf\n",
    "\n",
    "# Get elements\n",
    "raw_pdf_elements = partition_pdf(\n",
    "    filename=path + \"DOKUMEN_TES.pdf\",\n",
    "    # Unstructured first finds embedded image blocks\n",
    "    extract_images_in_pdf=False,\n",
    "    # Use layout model (YOLOX) to get bounding boxes (for tables) and find titles\n",
    "    # Titles are any sub-section of the document\n",
    "    infer_table_structure=True,\n",
    "    # Post processing to aggregate text once we have the title\n",
    "    chunking_strategy=\"by_title\",\n",
    "    # Chunking params to aggregate text blocks\n",
    "    # Attempt to create a new chunk 3800 chars\n",
    "    # Attempt to keep chunks > 2000 chars\n",
    "    max_characters=4000,\n",
    "    new_after_n_chars=3800,\n",
    "    combine_text_under_n_chars=2000,\n",
    "    image_output_dir_path=path,\n",
    ")"
   ]
  },
  {
   "cell_type": "code",
   "execution_count": 3,
   "id": "472d5684-f175-451e-8751-0f94a9b08d2f",
   "metadata": {},
   "outputs": [
    {
     "data": {
      "text/plain": [
       "{\"<class 'unstructured.documents.elements.CompositeElement'>\": 40,\n",
       " \"<class 'unstructured.documents.elements.Table'>\": 40}"
      ]
     },
     "execution_count": 3,
     "metadata": {},
     "output_type": "execute_result"
    }
   ],
   "source": [
    "# Create a dictionary to store counts of each type\n",
    "category_counts = {}\n",
    "\n",
    "for element in raw_pdf_elements:\n",
    "    category = str(type(element))\n",
    "    if category in category_counts:\n",
    "        category_counts[category] += 1\n",
    "    else:\n",
    "        category_counts[category] = 1\n",
    "\n",
    "# Unique_categories will have unique elements\n",
    "unique_categories = set(category_counts.keys())\n",
    "category_counts"
   ]
  },
  {
   "cell_type": "code",
   "execution_count": 4,
   "id": "1eb45425-59e8-4f42-b3ef-cff18e932ddc",
   "metadata": {},
   "outputs": [
    {
     "name": "stdout",
     "output_type": "stream",
     "text": [
      "40\n",
      "40\n"
     ]
    }
   ],
   "source": [
    "class Element(BaseModel):\n",
    "    type: str\n",
    "    text: Any\n",
    "\n",
    "\n",
    "# Categorize by type\n",
    "categorized_elements = []\n",
    "for element in raw_pdf_elements:\n",
    "    if \"unstructured.documents.elements.Table\" in str(type(element)):\n",
    "        categorized_elements.append(Element(type=\"table\", text=str(element)))\n",
    "    elif \"unstructured.documents.elements.CompositeElement\" in str(type(element)):\n",
    "        categorized_elements.append(Element(type=\"text\", text=str(element)))\n",
    "\n",
    "# Tables\n",
    "table_elements = [e for e in categorized_elements if e.type == \"table\"]\n",
    "print(len(table_elements))\n",
    "\n",
    "# Text\n",
    "text_elements = [e for e in categorized_elements if e.type == \"text\"]\n",
    "print(len(text_elements))"
   ]
  },
  {
   "cell_type": "code",
   "execution_count": 5,
   "id": "5078ace0-46eb-4ae8-94c8-9ae07c834592",
   "metadata": {},
   "outputs": [],
   "source": [
    "from langchain_core.output_parsers import StrOutputParser\n",
    "from langchain_core.prompts import ChatPromptTemplate\n",
    "#from langchain_openai import ChatOpenAI\n",
    "from langchain_community.llms.ollama import Ollama"
   ]
  },
  {
   "cell_type": "code",
   "execution_count": 6,
   "id": "e05fd335-5aca-4213-be11-0ed4ea534215",
   "metadata": {},
   "outputs": [],
   "source": [
    "#from langchain import hub\n",
    "#obj = hub.pull(\"rlm/multi-vector-retriever-summarization\")"
   ]
  },
  {
   "cell_type": "code",
   "execution_count": 7,
   "id": "8c915782-09cb-4418-b550-80dd8d59acdf",
   "metadata": {},
   "outputs": [],
   "source": [
    "#from langchain_community.llms.huggingface_pipeline import HuggingFacePipeline\n",
    "#from transformers import AutoModelForCausalLM, AutoTokenizer, pipeline\n",
    "#import torch\n",
    "#model = HuggingFacePipeline.from_model_id(\n",
    "#    model_id=\"mistralai/Mistral-7B-Instruct-v0.2\",\n",
    "#   task=\"text-generation\",\n",
    "#    device=0,  # -1 for CPU\n",
    "#    batch_size=2,  # adjust as needed based on GPU map and model size.\n",
    "#    model_kwargs={\"temperature\": 0, \"max_length\": 4096, \"torch_dtype\":torch.bfloat16},\n",
    "#)"
   ]
  },
  {
   "cell_type": "code",
   "execution_count": 8,
   "id": "f310fe86-f1e1-4f01-a345-0f7f8a6c38fe",
   "metadata": {},
   "outputs": [],
   "source": [
    "#model = Ollama(model = \"llama3.1:8b-instruct-q8_0\")\n",
    "#print(model)"
   ]
  },
  {
   "cell_type": "code",
   "execution_count": 9,
   "id": "7aef162e-c63a-44e5-ad97-d57ee5271e4f",
   "metadata": {},
   "outputs": [
    {
     "name": "stdout",
     "output_type": "stream",
     "text": [
      "\u001b[1mOllama\u001b[0m\n",
      "Params: {'model': 'llama3.1:8b-instruct-q8_0', 'format': None, 'options': {'mirostat': None, 'mirostat_eta': None, 'mirostat_tau': None, 'num_ctx': None, 'num_gpu': None, 'num_thread': None, 'num_predict': None, 'repeat_last_n': None, 'repeat_penalty': None, 'temperature': 0.0, 'stop': None, 'tfs_z': None, 'top_k': None, 'top_p': None}, 'system': None, 'template': None, 'keep_alive': None, 'raw': None}\n"
     ]
    }
   ],
   "source": [
    "# Prompt\n",
    "prompt_text = \"\"\"You are an assistant tasked with summarizing tables and text. \n",
    "Give a concise summary of the table or text. Table or text chunk: {element} \"\"\"\n",
    "prompt = ChatPromptTemplate.from_template(prompt_text)\n",
    "\n",
    "# Summary chain\n",
    "#model = ChatOpenAI(temperature=0, model=\"gpt-4\")\n",
    "model = Ollama(temperature=0, model = \"llama3.1:8b-instruct-q8_0\")\n",
    "summarize_chain = {\"element\": lambda x: x} | prompt | model | StrOutputParser()\n",
    "print(model)"
   ]
  },
  {
   "cell_type": "code",
   "execution_count": 10,
   "id": "fbcde72a-0856-4513-9a05-81e1ebe19c3f",
   "metadata": {},
   "outputs": [],
   "source": [
    "# Apply to tables\n",
    "tables = [i.text for i in table_elements]\n",
    "table_summaries = summarize_chain.batch(tables, {\"max_concurrency\": 5})"
   ]
  },
  {
   "cell_type": "code",
   "execution_count": null,
   "id": "a0e39ecf-cb37-4afa-988e-6768b4756982",
   "metadata": {},
   "outputs": [],
   "source": [
    "# Apply to texts\n",
    "texts = [i.text for i in text_elements]\n",
    "text_summaries = summarize_chain.batch(texts, {\"max_concurrency\": 5})"
   ]
  },
  {
   "cell_type": "code",
   "execution_count": null,
   "id": "ea163c7a-be8a-4a0e-9ca9-eb90f1a9c326",
   "metadata": {},
   "outputs": [],
   "source": [
    "import uuid\n",
    "\n",
    "from langchain.retrievers.multi_vector import MultiVectorRetriever\n",
    "from langchain.storage import InMemoryStore\n",
    "from langchain_chroma import Chroma\n",
    "from langchain_core.documents import Document\n",
    "#from langchain_openai import OpenAIEmbeddings\n",
    "#from langchain_community.embeddings.ollama import OllamaEmbeddings\n",
    "#def get_embedding_function():\n",
    "#    embeddings = OllamaEmbeddings(model=\"nomic-embed-text\")\n",
    "#    return embeddings\n",
    "from langchain_community.embeddings.fastembed import FastEmbedEmbeddings\n",
    "\n",
    "# The vectorstore to use to index the child chunks\n",
    "#vectorstore = Chroma(collection_name=\"summaries\", embedding_function=OpenAIEmbeddings())\n",
    "#vectorstore = Chroma(collection_name=\"summaries\", embedding_function=get_embedding_function())\n",
    "vectorstore = Chroma(collection_name=\"summaries\", embedding_function=FastEmbedEmbeddings())#OpenAIEmbeddings())\n",
    "\n",
    "# The storage layer for the parent documents\n",
    "store = InMemoryStore()\n",
    "id_key = \"doc_id\"\n",
    "\n",
    "# The retriever (empty to start)\n",
    "retriever = MultiVectorRetriever(\n",
    "    vectorstore=vectorstore,\n",
    "    docstore=store,\n",
    "    id_key=id_key,\n",
    ")\n",
    "\n",
    "# Add texts\n",
    "doc_ids = [str(uuid.uuid4()) for _ in texts]\n",
    "summary_texts = [\n",
    "    Document(page_content=s, metadata={id_key: doc_ids[i]})\n",
    "    for i, s in enumerate(text_summaries)\n",
    "]\n",
    "retriever.vectorstore.add_documents(summary_texts)\n",
    "retriever.docstore.mset(list(zip(doc_ids, texts)))\n",
    "\n",
    "# Add tables\n",
    "table_ids = [str(uuid.uuid4()) for _ in tables]\n",
    "summary_tables = [\n",
    "    Document(page_content=s, metadata={id_key: table_ids[i]})\n",
    "    for i, s in enumerate(table_summaries)\n",
    "]\n",
    "retriever.vectorstore.add_documents(summary_tables)\n",
    "retriever.docstore.mset(list(zip(table_ids, tables)))\n"
   ]
  },
  {
   "cell_type": "code",
   "execution_count": null,
   "id": "da5bc449-9e61-4e3b-8bbb-2ea0a501e6f7",
   "metadata": {},
   "outputs": [],
   "source": [
    "# # We can also add the original chunks to the vectorstore if we so want\n",
    "    #for i, doc in enumerate(docs):\n",
    "     #   doc.metadata[id_key] = doc_ids[i]\n",
    "#retriever.vectorstore.add_documents(docs)"
   ]
  },
  {
   "cell_type": "code",
   "execution_count": null,
   "id": "c460edf5-3507-48b8-a38c-972a0f102fdc",
   "metadata": {},
   "outputs": [],
   "source": [
    "from langchain_core.runnables import RunnablePassthrough\n",
    "\n",
    "# Prompt template\n",
    "template = \"\"\"Answer the question based only on the following context, which can include text and tables:\n",
    "{context}\n",
    "Question: {question}\n",
    "\"\"\"\n",
    "prompt = ChatPromptTemplate.from_template(template)\n",
    "\n",
    "# LLM\n",
    "#model = ChatOpenAI(temperature=0, model=\"gpt-4\")\n",
    "model = Ollama(temperature=0, model = \"llama3.1:8b-instruct-q8_0\")\n",
    "\n",
    "# RAG pipeline\n",
    "chain = (\n",
    "    {\"context\": retriever, \"question\": RunnablePassthrough()}\n",
    "    | prompt\n",
    "    | model\n",
    "    | StrOutputParser()\n",
    ")"
   ]
  },
  {
   "cell_type": "code",
   "execution_count": null,
   "id": "8b6c1cea-be9d-4af9-a865-0f6ec03c3fd4",
   "metadata": {},
   "outputs": [],
   "source": [
    "chain.invoke(\"Wilayah Kerja Blok Rimau ada di kabupaten mana?\")"
   ]
  },
  {
   "cell_type": "code",
   "execution_count": null,
   "id": "d45c24e2-67c2-4131-bd01-9ed093a3d853",
   "metadata": {},
   "outputs": [],
   "source": [
    "chain.invoke(\"apa tipe kontrak wilayah kerja Blok Rimau?\")"
   ]
  },
  {
   "cell_type": "code",
   "execution_count": null,
   "id": "7f30df4b-4110-4c52-bf5a-12fee557e63b",
   "metadata": {},
   "outputs": [],
   "source": [
    "import ipywidgets\n",
    "\n",
    "chain.invoke(\"berapa jumlah CO2 pada Data Komposisi Gas Blok Rimau Before Treatment?\")"
   ]
  },
  {
   "cell_type": "code",
   "execution_count": null,
   "id": "05a96ef0-56e9-4935-bac1-671441c0213a",
   "metadata": {},
   "outputs": [],
   "source": [
    "chain.invoke(\"siapa penjabat tertinggi operasi produksi Blok Rimau?\")"
   ]
  },
  {
   "cell_type": "code",
   "execution_count": null,
   "id": "dbd2ad28-d777-4e18-9a2f-dd7507690787",
   "metadata": {
    "scrolled": true
   },
   "outputs": [],
   "source": [
    "chain.invoke(\"apa tipe kontrak Wilayah Kerja Seram Non Bula?\")"
   ]
  },
  {
   "cell_type": "code",
   "execution_count": null,
   "id": "2531ab2f-c2c7-481d-891c-35af69b8f2b8",
   "metadata": {},
   "outputs": [],
   "source": [
    "chain.invoke(\"apa tipe kontrak Wilayah Kerja Bentu?\")"
   ]
  },
  {
   "cell_type": "code",
   "execution_count": null,
   "id": "5a1f26ea-d7b9-453b-a04c-58e80fe42d79",
   "metadata": {},
   "outputs": [],
   "source": [
    "chain.invoke(\"apa saja direktori fasilitas Lifting Bentu?\")"
   ]
  },
  {
   "cell_type": "code",
   "execution_count": null,
   "id": "df24568d-ef77-4383-96f2-0d00251151e9",
   "metadata": {},
   "outputs": [],
   "source": [
    "chain.invoke(\"apa saja FASILITAS PRODUKSI Kaji Station BLOK RIMAU?\")"
   ]
  },
  {
   "cell_type": "code",
   "execution_count": null,
   "id": "0ea0876a-93bb-4996-9aa3-ec2deca38c2c",
   "metadata": {},
   "outputs": [],
   "source": [
    "chain.invoke(\"Sebutkan FASILITAS PRODUKSI BLOK RIMAU, Kaji Station?\")"
   ]
  },
  {
   "cell_type": "code",
   "execution_count": null,
   "id": "4b80fa9a-ecbf-48a9-b1bb-86f35f4e5833",
   "metadata": {},
   "outputs": [],
   "source": [
    "chain.invoke(\"Sebutkan FASILITAS PRODUKSI BLOK RIMAU, Semoga Station?\")"
   ]
  },
  {
   "cell_type": "code",
   "execution_count": null,
   "id": "5302ddb3-90f5-4d4f-bae1-3a3c5f57a4c5",
   "metadata": {},
   "outputs": [],
   "source": [
    "chain.invoke(\"Sebutkan FASILITAS PRODUKSI BLOK RIMAU, 2. Semoga Station?\")"
   ]
  },
  {
   "cell_type": "code",
   "execution_count": null,
   "id": "d32cf559-f3a5-4a95-9718-cf01f787f257",
   "metadata": {},
   "outputs": [],
   "source": [
    "chain.invoke(\"Sebutkan jenis chemical yang digunakan di Langkap Station!\")"
   ]
  },
  {
   "cell_type": "code",
   "execution_count": null,
   "id": "b0b33d85-b489-435e-8d42-99d7315bc413",
   "metadata": {},
   "outputs": [],
   "source": [
    "chain.invoke(\"Sebutkan berapa rate penggunaannya?\")"
   ]
  },
  {
   "cell_type": "code",
   "execution_count": null,
   "id": "f868f6c4-4b01-4c73-a6de-41822318637c",
   "metadata": {},
   "outputs": [],
   "source": [
    "chain.invoke(\"Sebutkan rate penggunaan dari jenis chemical yang digunakan di Langkap Station!\")"
   ]
  },
  {
   "cell_type": "code",
   "execution_count": null,
   "id": "24e1fa69-124c-4994-81db-8e872680a783",
   "metadata": {},
   "outputs": [],
   "source": [
    "chain.invoke(\"Sebutkan berapa koordinat Bangka Marine Terminal!\")"
   ]
  },
  {
   "cell_type": "code",
   "execution_count": null,
   "id": "91e77ca6-ea26-4180-ab5a-762bf354930e",
   "metadata": {},
   "outputs": [],
   "source": [
    "chain.invoke(\"Sebutkan jenis kapal yang dapat diterima Bangka Marine Terminal!\")"
   ]
  },
  {
   "cell_type": "code",
   "execution_count": null,
   "id": "c030c9ce-81f9-4ca7-bc71-65b8ca40a495",
   "metadata": {},
   "outputs": [],
   "source": [
    "chain.invoke(\"berdasarkan tabel Produksi Gas Bumi SERAM NON BULA (Status: Januari 2024), sebutkan produksi tahun 2018!\")"
   ]
  },
  {
   "cell_type": "code",
   "execution_count": null,
   "id": "7fca17b6-ec55-4c78-8a87-87f2aa22ad5e",
   "metadata": {},
   "outputs": [],
   "source": [
    "chain.invoke(\"berdasarkan tabel Produksi Gas Bumi SERAM NON BULA (Status: Januari 2024), sebutkan produksi tahun 2009!\")"
   ]
  },
  {
   "cell_type": "code",
   "execution_count": null,
   "id": "6ee425e1-6eee-4b02-a38d-3029774bd8c8",
   "metadata": {},
   "outputs": [],
   "source": [
    "chain.invoke(\"berdasarkan tabel Produksi Gas Bumi SERAM NON BULA (Status: Januari 2024), sebutkan WP&B tahun 2018!\")"
   ]
  },
  {
   "cell_type": "code",
   "execution_count": null,
   "id": "eff7fc52-e543-4278-843a-66f6dd8d5096",
   "metadata": {},
   "outputs": [],
   "source": [
    "chain.invoke(\"berdasarkan tabel Produksi Gas Bumi SERAM NON BULA (Status: Januari 2024), WP&B tahun 2018 adalah 1.16, coba periksa kembali jawaban anda!\")"
   ]
  },
  {
   "cell_type": "code",
   "execution_count": null,
   "id": "33d1d996-fe04-4d87-9351-6d3006394912",
   "metadata": {},
   "outputs": [],
   "source": [
    "chain.invoke(\"berdasarkan tabel Produksi Gas Bumi SERAM NON BULA (Status: Januari 2024), sebutkan WP&B tahun 2009!\")"
   ]
  },
  {
   "cell_type": "code",
   "execution_count": null,
   "id": "7a6b53c2-a465-4f4f-ac32-5102afea11a4",
   "metadata": {},
   "outputs": [],
   "source": [
    "chain.invoke(\"berdasarkan tabel Produksi Gas Bumi SERAM NON BULA (Status: Januari 2024), sebutkan produksi tahun 2010!\")"
   ]
  },
  {
   "cell_type": "code",
   "execution_count": null,
   "id": "af26c4a1-062c-4b82-8a3e-0f1c84505bf8",
   "metadata": {},
   "outputs": [],
   "source": [
    "chain.invoke(\"berdasarkan tabel Produksi Gas Bumi SERAM NON BULA (Status: Januari 2024), sebutkan produksi tahun 2011!\")"
   ]
  },
  {
   "cell_type": "code",
   "execution_count": null,
   "id": "0c10be37-fdc9-4dba-9db7-5ceb62210052",
   "metadata": {},
   "outputs": [],
   "source": [
    "chain.invoke(\"Sebutkan jumlah sumur produksi SERAM NON BULA di lapangan Oseil\")"
   ]
  },
  {
   "cell_type": "code",
   "execution_count": null,
   "id": "e755b9b0-3be1-4c2f-bff5-eafd78cc67fb",
   "metadata": {},
   "outputs": [],
   "source": [
    "chain.invoke(\"PadSebutkan jumlah sumur Lapangan Oseil a tabel 3. Status Sumur Produksi SERAM NON BULA, sebutkan jumlah sumur Lapangan Oseil!\")"
   ]
  },
  {
   "cell_type": "code",
   "execution_count": null,
   "id": "e33c1309-9e34-4ace-89a0-85f4663bdfe3",
   "metadata": {},
   "outputs": [],
   "source": [
    "chain.invoke(\"Pada tabel 3. Status Sumur Produksi SERAM NON BULA, sebutkan nama-nama Lapangan!\")"
   ]
  },
  {
   "cell_type": "code",
   "execution_count": null,
   "id": "2c7983bc-abe7-4458-9cba-0cea1c740cc1",
   "metadata": {},
   "outputs": [],
   "source": [
    "chain.invoke(\"Pada CSEL BULA TERMINAL, berap produkis crude/kondensat per hari?\")"
   ]
  },
  {
   "cell_type": "code",
   "execution_count": null,
   "id": "07164ac6-69e7-4678-b601-ddd8d1086db0",
   "metadata": {},
   "outputs": [],
   "source": [
    "chain.invoke(\"Pada CSEL BULA TERMINAL, berapa kapasitas tangki operasi?\")"
   ]
  },
  {
   "cell_type": "code",
   "execution_count": null,
   "id": "f8c08540-dd7a-465d-be06-0b4d1a448814",
   "metadata": {},
   "outputs": [],
   "source": [
    "chain.invoke(\"Pada CSEL BULA TERMINAL, berapa jumlah dead stock?\")"
   ]
  },
  {
   "cell_type": "code",
   "execution_count": null,
   "id": "9d567bfb-b28b-4ac5-8e57-d3bbbd2a6753",
   "metadata": {},
   "outputs": [],
   "source": [
    "chain.invoke(\"Pada Wilayah Kerja Bentu, sebutkan masa kontrak!\")"
   ]
  },
  {
   "cell_type": "code",
   "execution_count": null,
   "id": "fd00741f-be5e-41d3-9324-c6b140d1be11",
   "metadata": {},
   "outputs": [],
   "source": []
  }
 ],
 "metadata": {
  "kernelspec": {
   "display_name": "Python 3 (ipykernel)",
   "language": "python",
   "name": "python3"
  },
  "language_info": {
   "codemirror_mode": {
    "name": "ipython",
    "version": 3
   },
   "file_extension": ".py",
   "mimetype": "text/x-python",
   "name": "python",
   "nbconvert_exporter": "python",
   "pygments_lexer": "ipython3",
   "version": "3.12.4"
  }
 },
 "nbformat": 4,
 "nbformat_minor": 5
}
